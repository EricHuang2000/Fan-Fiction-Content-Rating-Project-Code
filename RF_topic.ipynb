{
 "cells": [
  {
   "cell_type": "code",
   "execution_count": 4,
   "id": "205f38b0",
   "metadata": {},
   "outputs": [
    {
     "name": "stdout",
     "output_type": "stream",
     "text": [
      "   Unnamed: 0           HTML_Content  \\\n",
      "0           0  Teen And Up Audiences   \n",
      "1           1  Teen And Up Audiences   \n",
      "2           2      General Audiences   \n",
      "3           3  Teen And Up Audiences   \n",
      "4           4      General Audiences   \n",
      "\n",
      "                                         TXT_Content                    Topic  \n",
      "0  huckleberry finn stood front old wooden door m...       [18, 19, 15, 0, 5]  \n",
      "1  right huck trying figure every sort way jump m...      [18, 19, 0, 16, 15]  \n",
      "2  three buried mother christmas eve thing huck r...          [18, 19, 15, 0]  \n",
      "3  air hot brow wet mind exhausted st petersburg ...     [18, 15, 19, 16, 14]  \n",
      "4  episode genre al chaos chaos space vortex sped...  [19, 15, 18, 9, 12, 10]  \n"
     ]
    }
   ],
   "source": [
    "import pandas as pd\n",
    "data = pd.read_csv(r'C:\\Users\\erich\\Desktop\\DS_project\\data\\30_topic.csv')\n",
    "print(data.head())"
   ]
  },
  {
   "cell_type": "code",
   "execution_count": 9,
   "id": "ceb8de8c",
   "metadata": {},
   "outputs": [
    {
     "name": "stdout",
     "output_type": "stream",
     "text": [
      "                       precision    recall  f1-score   support\n",
      "\n",
      "             Explicit       0.84      0.16      0.27       169\n",
      "    General Audiences       0.50      0.21      0.30       280\n",
      "               Mature       0.90      0.04      0.08       226\n",
      "            Not Rated       1.00      0.08      0.16       142\n",
      "Teen And Up Audiences       0.34      0.92      0.50       384\n",
      "\n",
      "             accuracy                           0.38      1201\n",
      "            macro avg       0.72      0.28      0.26      1201\n",
      "         weighted avg       0.63      0.38      0.30      1201\n",
      "\n"
     ]
    }
   ],
   "source": [
    "import pandas as pd\n",
    "from sklearn.model_selection import train_test_split\n",
    "from sklearn.feature_extraction.text import TfidfVectorizer\n",
    "from sklearn.ensemble import RandomForestClassifier\n",
    "from sklearn.preprocessing import LabelEncoder, MultiLabelBinarizer\n",
    "from sklearn.metrics import classification_report\n",
    "from scipy.sparse import hstack\n",
    "\n",
    "data = data.dropna(subset=['TXT_Content'])\n",
    "\n",
    "vectorizer = TfidfVectorizer()\n",
    "X_text = vectorizer.fit_transform(data['TXT_Content'])\n",
    "\n",
    "mlb = MultiLabelBinarizer()\n",
    "X_topic = mlb.fit_transform(data['Topic'])\n",
    "\n",
    "weight_factor = 0.5 \n",
    "X_text_weighted = X_text.multiply(weight_factor)\n",
    "X_topic_weighted = X_topic * weight_factor\n",
    "\n",
    "X = hstack([X_text_weighted, X_topic_weighted])\n",
    "\n",
    "le = LabelEncoder()\n",
    "y = le.fit_transform(data['HTML_Content'])\n",
    "\n",
    "X_train, X_test, y_train, y_test = train_test_split(X, y, test_size=0.2, random_state=42)\n",
    "\n",
    "clf = RandomForestClassifier(max_depth=None, min_samples_split=5, n_estimators=400, random_state=42)\n",
    "clf.fit(X_train, y_train)\n",
    "\n",
    "y_pred = clf.predict(X_test)\n",
    "target_names = le.classes_\n",
    "print(classification_report(y_test, y_pred, target_names=target_names))\n"
   ]
  }
 ],
 "metadata": {
  "kernelspec": {
   "display_name": "Python 3 (ipykernel)",
   "language": "python",
   "name": "python3"
  },
  "language_info": {
   "codemirror_mode": {
    "name": "ipython",
    "version": 3
   },
   "file_extension": ".py",
   "mimetype": "text/x-python",
   "name": "python",
   "nbconvert_exporter": "python",
   "pygments_lexer": "ipython3",
   "version": "3.9.12"
  }
 },
 "nbformat": 4,
 "nbformat_minor": 5
}
