{
 "cells": [
  {
   "cell_type": "code",
   "execution_count": 8,
   "id": "0f90f706",
   "metadata": {},
   "outputs": [
    {
     "name": "stdout",
     "output_type": "stream",
     "text": [
      "   Unnamed: 0           HTML_Content  \\\n",
      "0           0  Teen And Up Audiences   \n",
      "1           1  Teen And Up Audiences   \n",
      "2           2      General Audiences   \n",
      "3           3  Teen And Up Audiences   \n",
      "4           4      General Audiences   \n",
      "\n",
      "                                         TXT_Content                    Topic  \n",
      "0  huckleberry finn stood front old wooden door m...       [18, 19, 15, 0, 5]  \n",
      "1  right huck trying figure every sort way jump m...      [18, 19, 0, 16, 15]  \n",
      "2  three buried mother christmas eve thing huck r...          [18, 19, 15, 0]  \n",
      "3  air hot brow wet mind exhausted st petersburg ...     [18, 15, 19, 16, 14]  \n",
      "4  episode genre al chaos chaos space vortex sped...  [19, 15, 18, 9, 12, 10]  \n"
     ]
    }
   ],
   "source": [
    "import pandas as pd\n",
    "data = pd.read_csv(r'C:\\Users\\erich\\Desktop\\DS_project\\data\\30_topic.csv')\n",
    "print(data.head())"
   ]
  },
  {
   "cell_type": "code",
   "execution_count": 24,
   "id": "eabc7002",
   "metadata": {},
   "outputs": [
    {
     "name": "stdout",
     "output_type": "stream",
     "text": [
      "                       precision    recall  f1-score   support\n",
      "\n",
      "             Explicit       0.50      0.21      0.29       163\n",
      "    General Audiences       0.34      0.30      0.32       281\n",
      "               Mature       0.34      0.18      0.23       218\n",
      "            Not Rated       0.59      0.09      0.15       116\n",
      "Teen And Up Audiences       0.40      0.70      0.51       423\n",
      "\n",
      "             accuracy                           0.39      1201\n",
      "            macro avg       0.43      0.30      0.30      1201\n",
      "         weighted avg       0.40      0.39      0.35      1201\n",
      "\n"
     ]
    },
    {
     "name": "stderr",
     "output_type": "stream",
     "text": [
      "C:\\Users\\erich\\anaconda3\\lib\\site-packages\\sklearn\\naive_bayes.py:555: UserWarning: alpha too small will result in numeric errors, setting alpha = 1.0e-10\n",
      "  warnings.warn(\n"
     ]
    }
   ],
   "source": [
    "import pandas as pd\n",
    "from sklearn.model_selection import train_test_split\n",
    "from sklearn.feature_extraction.text import TfidfVectorizer\n",
    "from sklearn.naive_bayes import MultinomialNB\n",
    "from sklearn.preprocessing import LabelEncoder, MultiLabelBinarizer\n",
    "from sklearn.metrics import classification_report\n",
    "from scipy.sparse import hstack\n",
    "\n",
    "data = data.dropna(subset=['TXT_Content'])\n",
    "\n",
    "vectorizer = TfidfVectorizer()\n",
    "X_text = vectorizer.fit_transform(data['TXT_Content'])\n",
    "\n",
    "mlb = MultiLabelBinarizer()\n",
    "X_topic = mlb.fit_transform(data['Topic'])\n",
    "\n",
    "weight_factor = 0.5 \n",
    "X_text_weighted = X_text.multiply(weight_factor)\n",
    "X_topic_weighted = X_topic * weight_factor\n",
    "\n",
    "X = hstack([X_text_weighted, X_topic_weighted])\n",
    "\n",
    "le = LabelEncoder()\n",
    "y = le.fit_transform(data['HTML_Content'])\n",
    "\n",
    "X_train, X_test, y_train, y_test = train_test_split(X, y, test_size=0.2)\n",
    "\n",
    "clf = MultinomialNB(alpha=0.0, fit_prior=True)\n",
    "clf.fit(X_train, y_train)\n",
    "\n",
    "y_pred = clf.predict(X_test)\n",
    "target_names = le.classes_ \n",
    "print(classification_report(y_test, y_pred, target_names=target_names))\n",
    "\n"
   ]
  },
  {
   "cell_type": "code",
   "execution_count": null,
   "id": "031ba0dc",
   "metadata": {},
   "outputs": [],
   "source": []
  }
 ],
 "metadata": {
  "kernelspec": {
   "display_name": "Python 3 (ipykernel)",
   "language": "python",
   "name": "python3"
  },
  "language_info": {
   "codemirror_mode": {
    "name": "ipython",
    "version": 3
   },
   "file_extension": ".py",
   "mimetype": "text/x-python",
   "name": "python",
   "nbconvert_exporter": "python",
   "pygments_lexer": "ipython3",
   "version": "3.9.12"
  }
 },
 "nbformat": 4,
 "nbformat_minor": 5
}
