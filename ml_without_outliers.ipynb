{
 "cells": [
  {
   "cell_type": "code",
   "execution_count": 1,
   "id": "7512c334",
   "metadata": {},
   "outputs": [
    {
     "name": "stderr",
     "output_type": "stream",
     "text": [
      "C:\\Users\\erich\\anaconda3\\lib\\site-packages\\scipy\\__init__.py:146: UserWarning: A NumPy version >=1.16.5 and <1.23.0 is required for this version of SciPy (detected version 1.24.3\n",
      "  warnings.warn(f\"A NumPy version >={np_minversion} and <{np_maxversion}\"\n"
     ]
    },
    {
     "name": "stdout",
     "output_type": "stream",
     "text": [
      "Classifier: Naive Bayes\n",
      "Accuracy: 0.6768\n",
      "Recall: 0.0104\n",
      "F1-score: 0.0205\n",
      "--------------------------------------------------\n",
      "Classifier: Random Forest\n",
      "Accuracy: 0.7056\n",
      "Recall: 0.1510\n",
      "F1-score: 0.2500\n",
      "--------------------------------------------------\n",
      "Classifier: SVM\n",
      "Accuracy: 0.6920\n",
      "Recall: 0.0990\n",
      "F1-score: 0.1727\n",
      "--------------------------------------------------\n"
     ]
    }
   ],
   "source": [
    "import pandas as pd\n",
    "from sklearn.feature_extraction.text import TfidfVectorizer\n",
    "from sklearn.naive_bayes import MultinomialNB\n",
    "from sklearn.ensemble import RandomForestClassifier\n",
    "from sklearn.svm import SVC\n",
    "from sklearn.model_selection import train_test_split\n",
    "from sklearn.metrics import accuracy_score, recall_score, f1_score\n",
    "\n",
    "df = pd.read_csv(r'C:\\Users\\erich\\Desktop\\DS_project\\data\\cleaned_data.csv')\n",
    "\n",
    "df = df[df['HTML_Content'].isin(['Teen And Up Audiences', 'Mature'])]\n",
    "\n",
    "vectorizer = TfidfVectorizer()\n",
    "X = vectorizer.fit_transform(df['TXT_Content'])\n",
    "y = df['HTML_Content']\n",
    "\n",
    "X_train, X_test, y_train, y_test = train_test_split(X, y, test_size=0.2, random_state=42)\n",
    "\n",
    "classifiers = {\n",
    "    \"Naive Bayes\": MultinomialNB(alpha=0.5, fit_prior=True),\n",
    "    \"Random Forest\": RandomForestClassifier(max_depth=None, min_samples_split=5, n_estimators=400),\n",
    "    \"SVM\": SVC(C=1, gamma=1, kernel='rbf', probability=True)\n",
    "}\n",
    "\n",
    "for name, clf in classifiers.items():\n",
    "    clf.fit(X_train, y_train)\n",
    "    y_pred = clf.predict(X_test)\n",
    "    print(f\"Classifier: {name}\")\n",
    "    print(f\"Accuracy: {accuracy_score(y_test, y_pred):.4f}\")\n",
    "    print(f\"Recall: {recall_score(y_test, y_pred, pos_label='Mature'):.4f}\")\n",
    "    print(f\"F1-score: {f1_score(y_test, y_pred, pos_label='Mature'):.4f}\")\n",
    "    print(\"-\" * 50)\n"
   ]
  },
  {
   "cell_type": "code",
   "execution_count": null,
   "id": "617347dc",
   "metadata": {},
   "outputs": [],
   "source": []
  }
 ],
 "metadata": {
  "kernelspec": {
   "display_name": "Python 3 (ipykernel)",
   "language": "python",
   "name": "python3"
  },
  "language_info": {
   "codemirror_mode": {
    "name": "ipython",
    "version": 3
   },
   "file_extension": ".py",
   "mimetype": "text/x-python",
   "name": "python",
   "nbconvert_exporter": "python",
   "pygments_lexer": "ipython3",
   "version": "3.9.12"
  }
 },
 "nbformat": 4,
 "nbformat_minor": 5
}
