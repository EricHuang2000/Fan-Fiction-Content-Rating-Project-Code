{
 "cells": [
  {
   "cell_type": "code",
   "execution_count": 2,
   "id": "430cd446",
   "metadata": {},
   "outputs": [
    {
     "name": "stderr",
     "output_type": "stream",
     "text": [
      "C:\\Users\\erich\\anaconda3\\lib\\site-packages\\scipy\\__init__.py:146: UserWarning: A NumPy version >=1.16.5 and <1.23.0 is required for this version of SciPy (detected version 1.24.3\n",
      "  warnings.warn(f\"A NumPy version >={np_minversion} and <{np_maxversion}\"\n"
     ]
    },
    {
     "name": "stdout",
     "output_type": "stream",
     "text": [
      "Naive Bayes - Accuracy: 0.37488284910965325, Recall: 0.37488284910965325, F1-Score: 0.23541070124916727\n",
      "Random Forest - Accuracy: 0.4329896907216495, Recall: 0.4329896907216495, F1-Score: 0.35207640174548743\n",
      "SVM - Accuracy: 0.42642924086223055, Recall: 0.42642924086223055, F1-Score: 0.36859497060248664\n"
     ]
    }
   ],
   "source": [
    "import pandas as pd\n",
    "from sklearn.feature_extraction.text import TfidfVectorizer\n",
    "from sklearn.model_selection import train_test_split\n",
    "from sklearn.naive_bayes import MultinomialNB\n",
    "from sklearn.ensemble import RandomForestClassifier\n",
    "from sklearn.svm import SVC\n",
    "from sklearn.metrics import accuracy_score, recall_score, f1_score\n",
    "from nltk.tokenize import word_tokenize\n",
    "from nltk.corpus import stopwords\n",
    "from nltk.stem import WordNetLemmatizer\n",
    "import re\n",
    "\n",
    "data = pd.read_csv(r'C:\\Users\\erich\\Desktop\\DS_project\\data\\data_30_sentences.csv')\n",
    "\n",
    "lemmatizer = WordNetLemmatizer()\n",
    "def clean_data(df):\n",
    "    df = df[df['HTML_Content'] != 'Not Rated']\n",
    "    df = df.dropna(subset=['TXT_Content'])\n",
    "\n",
    "    def clean_text(text):\n",
    "        if not isinstance(text, str):\n",
    "            text = str(text)\n",
    "        text = re.sub('[^a-zA-Z]', ' ', text)\n",
    "        text = text.lower()\n",
    "        tokenized_text = word_tokenize(text)\n",
    "        cleaned_text = [lemmatizer.lemmatize(word) for word in tokenized_text if word not in set(stopwords.words('english'))]\n",
    "        return ' '.join(cleaned_text)\n",
    "\n",
    "    df['TXT_Content'] = df['TXT_Content'].apply(clean_text)\n",
    "    return df\n",
    "\n",
    "cleaned_data = clean_data(data)\n",
    "\n",
    "vectorizer = TfidfVectorizer()\n",
    "X = vectorizer.fit_transform(cleaned_data['TXT_Content'])\n",
    "y = cleaned_data['HTML_Content']\n",
    "\n",
    "X_train, X_test, y_train, y_test = train_test_split(X, y, test_size=0.2, random_state=42)\n",
    "\n",
    "models = {\n",
    "    'Naive Bayes': MultinomialNB(alpha=0.5, fit_prior=True),\n",
    "    'Random Forest': RandomForestClassifier(max_depth=None, min_samples_split=5, n_estimators=400),\n",
    "    'SVM': SVC(C=1, gamma=1, kernel='rbf', probability=True)\n",
    "}\n",
    "\n",
    "for name, model in models.items():\n",
    "    model.fit(X_train, y_train)\n",
    "    y_pred = model.predict(X_test)\n",
    "    \n",
    "    accuracy = accuracy_score(y_test, y_pred)\n",
    "    recall = recall_score(y_test, y_pred, average='weighted')\n",
    "    f1 = f1_score(y_test, y_pred, average='weighted')\n",
    "    \n",
    "    print(f\"{name} - Accuracy: {accuracy}, Recall: {recall}, F1-Score: {f1}\")\n"
   ]
  },
  {
   "cell_type": "code",
   "execution_count": 6,
   "id": "b354bbfd",
   "metadata": {},
   "outputs": [],
   "source": [
    "import pandas as pd\n",
    "from sklearn.model_selection import train_test_split\n",
    "from sklearn.feature_extraction.text import TfidfVectorizer\n",
    "from sklearn.svm import SVC\n",
    "from sklearn.preprocessing import LabelEncoder, MultiLabelBinarizer\n",
    "from sklearn.metrics import classification_report\n",
    "from scipy.sparse import hstack\n",
    "from nltk.tokenize import word_tokenize\n",
    "from nltk.corpus import stopwords\n",
    "from nltk.stem import WordNetLemmatizer\n",
    "import re\n",
    "\n",
    "data = pd.read_csv(r'C:\\Users\\erich\\Desktop\\DS_project\\data\\30_topic.csv')\n",
    "\n",
    "data = data[data['HTML_Content'] != 'Not Rated']\n",
    "data = data.dropna(subset=['TXT_Content'])\n",
    "\n",
    "lemmatizer = WordNetLemmatizer()\n",
    "def clean_text(text):\n",
    "    text = re.sub('[^a-zA-Z]', ' ', text)\n",
    "    text = text.lower()\n",
    "    tokenized_text = word_tokenize(text)\n",
    "    cleaned_text = [lemmatizer.lemmatize(word) for word in tokenized_text if word not in set(stopwords.words('english'))]\n",
    "    return ' '.join(cleaned_text)\n",
    "\n",
    "data['TXT_Content'] = data['TXT_Content'].apply(clean_text)\n",
    "\n",
    "vectorizer = TfidfVectorizer()\n",
    "X_text = vectorizer.fit_transform(data['TXT_Content'])\n",
    "\n",
    "mlb = MultiLabelBinarizer()\n",
    "X_topic = mlb.fit_transform(data['Topic'])\n",
    "\n",
    "weight_factor = 0.5\n",
    "X_text_weighted = X_text.multiply(weight_factor)\n",
    "X_topic_weighted = X_topic * weight_factor\n",
    "\n",
    "X = hstack([X_text_weighted, X_topic_weighted])\n",
    "\n",
    "le = LabelEncoder()\n",
    "y = le.fit_transform(data['HTML_Content'])\n",
    "\n",
    "X_train, X_test, y_train, y_test = train_test_split(X, y, test_size=0.2, random_state=42)"
   ]
  },
  {
   "cell_type": "code",
   "execution_count": 7,
   "id": "c8b38429",
   "metadata": {},
   "outputs": [
    {
     "name": "stdout",
     "output_type": "stream",
     "text": [
      "Naive Bayes - Accuracy: 0.396231, Recall: 0.396231, F1-Score: 0.245807\n",
      "Random Forest - Accuracy: 0.455482, Recall: 0.455482, F1-Score: 0.38085\n",
      "SVM - Accuracy: 0.439241, Recall: 0.439241, F1-Score: 0.376052\n"
     ]
    }
   ],
   "source": [
    "\n",
    "models = {\n",
    "    'Naive Bayes': MultinomialNB(alpha=0.5, fit_prior=True),\n",
    "    'Random Forest': RandomForestClassifier(max_depth=None, min_samples_split=5, n_estimators=400),\n",
    "    'SVM': SVC(C=1, gamma=1, kernel='rbf', probability=True)\n",
    "}\n",
    "\n",
    "\n",
    "for name, model in models.items():\n",
    "    model.fit(X_train, y_train)\n",
    "    y_pred = model.predict(X_test)\n",
    "    \n",
    "    accuracy = accuracy_score(y_test, y_pred)\n",
    "    recall = recall_score(y_test, y_pred, average='weighted')\n",
    "    f1 = f1_score(y_test, y_pred, average='weighted')\n",
    "    \n",
    "    print(f\"{name} - Accuracy: {accuracy}, Recall: {recall}, F1-Score: {f1}\")"
   ]
  },
  {
   "cell_type": "code",
   "execution_count": null,
   "id": "da293ab5",
   "metadata": {},
   "outputs": [],
   "source": []
  }
 ],
 "metadata": {
  "kernelspec": {
   "display_name": "Python 3 (ipykernel)",
   "language": "python",
   "name": "python3"
  },
  "language_info": {
   "codemirror_mode": {
    "name": "ipython",
    "version": 3
   },
   "file_extension": ".py",
   "mimetype": "text/x-python",
   "name": "python",
   "nbconvert_exporter": "python",
   "pygments_lexer": "ipython3",
   "version": "3.9.12"
  }
 },
 "nbformat": 4,
 "nbformat_minor": 5
}
