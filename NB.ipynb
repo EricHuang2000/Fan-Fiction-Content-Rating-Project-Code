{
 "cells": [
  {
   "cell_type": "code",
   "execution_count": 1,
   "id": "edc1bde1",
   "metadata": {},
   "outputs": [
    {
     "name": "stdout",
     "output_type": "stream",
     "text": [
      "               HTML_Content                                        TXT_Content\n",
      "0     Teen And Up Audiences  huckleberry finn stood front old wooden door m...\n",
      "1     Teen And Up Audiences  right huck trying figure every sort way could ...\n",
      "2         General Audiences  three buried mother christmas eve thing huck c...\n",
      "3     Teen And Up Audiences  air hot brow wet mind exhausted st petersburg ...\n",
      "4         General Audiences  episode genre al chaos chaos space time vortex...\n",
      "...                     ...                                                ...\n",
      "5993  Teen And Up Audiences  seen news pat asked robin chance hang coat mor...\n",
      "5994  Teen And Up Audiences  free next friday night murphy smiled phone rob...\n",
      "5995                 Mature  turned walked away wan na say come baby give w...\n",
      "5996      General Audiences  perfect word tended apply liberally one often ...\n",
      "5997                 Mature  heaven fact unlike earth pro con pro include t...\n",
      "\n",
      "[5998 rows x 2 columns]\n"
     ]
    }
   ],
   "source": [
    "import pandas as pd\n",
    "data_30_sentences = pd.read_csv(r'C:\\Users\\erich\\Desktop\\DS_project\\data\\data_30_sentences.csv')\n",
    "\n",
    "from nltk.tokenize import word_tokenize\n",
    "from nltk.corpus import stopwords\n",
    "from nltk.stem import WordNetLemmatizer\n",
    "import re\n",
    "\n",
    "lemmatizer = WordNetLemmatizer()\n",
    "\n",
    "def clean_data(df):\n",
    "    df = df[df['HTML_Content'].isin(['Explicit', 'General Audiences', 'Mature', 'Not Rated', 'Teen And Up Audiences'])]\n",
    "\n",
    "    df = df.dropna(subset=['TXT_Content'])\n",
    "\n",
    "    def clean_text(text):\n",
    "\n",
    "        if not isinstance(text, str):\n",
    "            text = str(text)\n",
    "\n",
    "        text = re.sub('[^a-zA-Z]', ' ', text)\n",
    "        text = text.lower()\n",
    "        tokenized_text = word_tokenize(text)\n",
    "        cleaned_text = [lemmatizer.lemmatize(word) for word in tokenized_text if word not in set(stopwords.words('english'))]\n",
    "\n",
    "        return ' '.join(cleaned_text)\n",
    "\n",
    "    df['TXT_Content'] = df['TXT_Content'].apply(clean_text)\n",
    "\n",
    "    return df\n",
    "\n",
    "data_30_sentences = clean_data(data_30_sentences)\n",
    "\n",
    "print(data_30_sentences)"
   ]
  },
  {
   "cell_type": "code",
   "execution_count": 2,
   "id": "cf055553",
   "metadata": {},
   "outputs": [
    {
     "name": "stdout",
     "output_type": "stream",
     "text": [
      "Fitting 5 folds for each of 6 candidates, totalling 30 fits\n"
     ]
    },
    {
     "name": "stderr",
     "output_type": "stream",
     "text": [
      "C:\\Users\\erich\\anaconda3\\lib\\site-packages\\sklearn\\naive_bayes.py:555: UserWarning: alpha too small will result in numeric errors, setting alpha = 1.0e-10\n",
      "  warnings.warn(\n"
     ]
    },
    {
     "name": "stdout",
     "output_type": "stream",
     "text": [
      "[CV] END ..........................alpha=0.0, fit_prior=True; total time=   0.2s\n"
     ]
    },
    {
     "name": "stderr",
     "output_type": "stream",
     "text": [
      "C:\\Users\\erich\\anaconda3\\lib\\site-packages\\sklearn\\naive_bayes.py:555: UserWarning: alpha too small will result in numeric errors, setting alpha = 1.0e-10\n",
      "  warnings.warn(\n"
     ]
    },
    {
     "name": "stdout",
     "output_type": "stream",
     "text": [
      "[CV] END ..........................alpha=0.0, fit_prior=True; total time=   0.1s\n"
     ]
    },
    {
     "name": "stderr",
     "output_type": "stream",
     "text": [
      "C:\\Users\\erich\\anaconda3\\lib\\site-packages\\sklearn\\naive_bayes.py:555: UserWarning: alpha too small will result in numeric errors, setting alpha = 1.0e-10\n",
      "  warnings.warn(\n"
     ]
    },
    {
     "name": "stdout",
     "output_type": "stream",
     "text": [
      "[CV] END ..........................alpha=0.0, fit_prior=True; total time=   0.1s\n",
      "[CV] END ..........................alpha=0.0, fit_prior=True; total time=   0.1s\n"
     ]
    },
    {
     "name": "stderr",
     "output_type": "stream",
     "text": [
      "C:\\Users\\erich\\anaconda3\\lib\\site-packages\\sklearn\\naive_bayes.py:555: UserWarning: alpha too small will result in numeric errors, setting alpha = 1.0e-10\n",
      "  warnings.warn(\n",
      "C:\\Users\\erich\\anaconda3\\lib\\site-packages\\sklearn\\naive_bayes.py:555: UserWarning: alpha too small will result in numeric errors, setting alpha = 1.0e-10\n",
      "  warnings.warn(\n"
     ]
    },
    {
     "name": "stdout",
     "output_type": "stream",
     "text": [
      "[CV] END ..........................alpha=0.0, fit_prior=True; total time=   0.1s\n",
      "[CV] END .........................alpha=0.0, fit_prior=False; total time=   0.1s\n"
     ]
    },
    {
     "name": "stderr",
     "output_type": "stream",
     "text": [
      "C:\\Users\\erich\\anaconda3\\lib\\site-packages\\sklearn\\naive_bayes.py:555: UserWarning: alpha too small will result in numeric errors, setting alpha = 1.0e-10\n",
      "  warnings.warn(\n",
      "C:\\Users\\erich\\anaconda3\\lib\\site-packages\\sklearn\\naive_bayes.py:555: UserWarning: alpha too small will result in numeric errors, setting alpha = 1.0e-10\n",
      "  warnings.warn(\n"
     ]
    },
    {
     "name": "stdout",
     "output_type": "stream",
     "text": [
      "[CV] END .........................alpha=0.0, fit_prior=False; total time=   0.1s\n",
      "[CV] END .........................alpha=0.0, fit_prior=False; total time=   0.1s\n"
     ]
    },
    {
     "name": "stderr",
     "output_type": "stream",
     "text": [
      "C:\\Users\\erich\\anaconda3\\lib\\site-packages\\sklearn\\naive_bayes.py:555: UserWarning: alpha too small will result in numeric errors, setting alpha = 1.0e-10\n",
      "  warnings.warn(\n",
      "C:\\Users\\erich\\anaconda3\\lib\\site-packages\\sklearn\\naive_bayes.py:555: UserWarning: alpha too small will result in numeric errors, setting alpha = 1.0e-10\n",
      "  warnings.warn(\n",
      "C:\\Users\\erich\\anaconda3\\lib\\site-packages\\sklearn\\naive_bayes.py:555: UserWarning: alpha too small will result in numeric errors, setting alpha = 1.0e-10\n",
      "  warnings.warn(\n"
     ]
    },
    {
     "name": "stdout",
     "output_type": "stream",
     "text": [
      "[CV] END .........................alpha=0.0, fit_prior=False; total time=   0.1s\n",
      "[CV] END .........................alpha=0.0, fit_prior=False; total time=   0.1s\n",
      "[CV] END ..........................alpha=0.5, fit_prior=True; total time=   0.1s\n",
      "[CV] END ..........................alpha=0.5, fit_prior=True; total time=   0.1s\n",
      "[CV] END ..........................alpha=0.5, fit_prior=True; total time=   0.1s\n",
      "[CV] END ..........................alpha=0.5, fit_prior=True; total time=   0.1s\n",
      "[CV] END ..........................alpha=0.5, fit_prior=True; total time=   0.1s\n",
      "[CV] END .........................alpha=0.5, fit_prior=False; total time=   0.1s\n",
      "[CV] END .........................alpha=0.5, fit_prior=False; total time=   0.1s\n",
      "[CV] END .........................alpha=0.5, fit_prior=False; total time=   0.1s\n",
      "[CV] END .........................alpha=0.5, fit_prior=False; total time=   0.1s\n",
      "[CV] END .........................alpha=0.5, fit_prior=False; total time=   0.1s\n",
      "[CV] END ..........................alpha=1.0, fit_prior=True; total time=   0.1s\n",
      "[CV] END ..........................alpha=1.0, fit_prior=True; total time=   0.1s\n",
      "[CV] END ..........................alpha=1.0, fit_prior=True; total time=   0.1s\n",
      "[CV] END ..........................alpha=1.0, fit_prior=True; total time=   0.1s\n",
      "[CV] END ..........................alpha=1.0, fit_prior=True; total time=   0.1s\n",
      "[CV] END .........................alpha=1.0, fit_prior=False; total time=   0.1s\n",
      "[CV] END .........................alpha=1.0, fit_prior=False; total time=   0.1s\n",
      "[CV] END .........................alpha=1.0, fit_prior=False; total time=   0.1s\n",
      "[CV] END .........................alpha=1.0, fit_prior=False; total time=   0.1s\n",
      "[CV] END .........................alpha=1.0, fit_prior=False; total time=   0.1s\n",
      "{'alpha': 0.0, 'fit_prior': True}\n"
     ]
    },
    {
     "name": "stderr",
     "output_type": "stream",
     "text": [
      "C:\\Users\\erich\\anaconda3\\lib\\site-packages\\sklearn\\naive_bayes.py:555: UserWarning: alpha too small will result in numeric errors, setting alpha = 1.0e-10\n",
      "  warnings.warn(\n"
     ]
    },
    {
     "data": {
      "image/png": "[encoded data removed]",
      "text/plain": [
       "<Figure size 576x432 with 2 Axes>"
      ]
     },
     "metadata": {
      "needs_background": "light"
     },
     "output_type": "display_data"
    }
   ],
   "source": [
    "from sklearn.feature_extraction.text import TfidfVectorizer\n",
    "from sklearn.model_selection import train_test_split, GridSearchCV\n",
    "from sklearn.naive_bayes import MultinomialNB\n",
    "import matplotlib.pyplot as plt\n",
    "import seaborn as sns\n",
    "\n",
    "vectorizer = TfidfVectorizer()\n",
    "X = vectorizer.fit_transform(data_30_sentences['TXT_Content'])\n",
    "y = data_30_sentences['HTML_Content']\n",
    "\n",
    "X_train, X_test, y_train, y_test = train_test_split(X, y, test_size=0.2, random_state=42)\n",
    "X_train, X_val, y_train, y_val = train_test_split(X_train, y_train, test_size=0.25, random_state=42) # 0.25 x 0.8 = 0.2\n",
    "\n",
    "mnb = MultinomialNB()\n",
    "\n",
    "param_grid = {'alpha': [0.0, 0.5, 1.0], 'fit_prior': [True, False]}\n",
    "\n",
    "grid = GridSearchCV(mnb, param_grid, refit=True, verbose=2, scoring='accuracy')\n",
    "grid.fit(X_val.toarray(), y_val)\n",
    "\n",
    "print(grid.best_params_)\n",
    "\n",
    "scores = grid.cv_results_['mean_test_score'].reshape(len(param_grid['alpha']), len(param_grid['fit_prior']))\n",
    "\n",
    "plt.figure(figsize=(8, 6))\n",
    "sns.heatmap(scores, annot=True, fmt=\".3f\", xticklabels=param_grid['fit_prior'], yticklabels=param_grid['alpha'])\n",
    "plt.xlabel('fit_prior')\n",
    "plt.ylabel('alpha')\n",
    "plt.show()\n"
   ]
  },
  {
   "cell_type": "code",
   "execution_count": 3,
   "id": "38cb253b",
   "metadata": {},
   "outputs": [
    {
     "data": {
      "image/png": "[encoded data removed]",
      "text/plain": [
       "<Figure size 576x432 with 2 Axes>"
      ]
     },
     "metadata": {
      "needs_background": "light"
     },
     "output_type": "display_data"
    }
   ],
   "source": [
    "import seaborn as sns\n",
    "plt.figure(figsize=(8, 6))\n",
    "sns.heatmap(scores, annot=True, fmt=\".3f\", xticklabels=param_grid['fit_prior'], yticklabels=param_grid['alpha'])\n",
    "plt.xlabel('fit_prior')\n",
    "plt.ylabel('alpha')\n",
    "plt.savefig('C:/Users/erich/Desktop/DS_project/data/pic/heatmap_NB.png')\n",
    "plt.show()\n"
   ]
  },
  {
   "cell_type": "code",
   "execution_count": null,
   "id": "a70ff43c",
   "metadata": {},
   "outputs": [],
   "source": []
  }
 ],
 "metadata": {
  "kernelspec": {
   "display_name": "Python 3 (ipykernel)",
   "language": "python",
   "name": "python3"
  },
  "language_info": {
   "codemirror_mode": {
    "name": "ipython",
    "version": 3
   },
   "file_extension": ".py",
   "mimetype": "text/x-python",
   "name": "python",
   "nbconvert_exporter": "python",
   "pygments_lexer": "ipython3",
   "version": "3.9.12"
  }
 },
 "nbformat": 4,
 "nbformat_minor": 5
}
