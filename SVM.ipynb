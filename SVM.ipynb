{
 "cells": [
  {
   "cell_type": "code",
   "execution_count": 2,
   "id": "77063712",
   "metadata": {},
   "outputs": [],
   "source": [
    "import pandas as pd\n",
    "data_30_sentences = pd.read_csv(r'C:\\Users\\erich\\Desktop\\DS_project\\data\\data_30_sentences.csv')"
   ]
  },
  {
   "cell_type": "code",
   "execution_count": 3,
   "id": "d03ca8c7",
   "metadata": {},
   "outputs": [
    {
     "name": "stdout",
     "output_type": "stream",
     "text": [
      "               HTML_Content                                        TXT_Content\n",
      "0     Teen And Up Audiences  huckleberry finn stood front old wooden door m...\n",
      "1     Teen And Up Audiences  right huck trying figure every sort way could ...\n",
      "2         General Audiences  three buried mother christmas eve thing huck c...\n",
      "3     Teen And Up Audiences  air hot brow wet mind exhausted st petersburg ...\n",
      "4         General Audiences  episode genre al chaos chaos space time vortex...\n",
      "...                     ...                                                ...\n",
      "5993  Teen And Up Audiences  seen news pat asked robin chance hang coat mor...\n",
      "5994  Teen And Up Audiences  free next friday night murphy smiled phone rob...\n",
      "5995                 Mature  turned walked away wan na say come baby give w...\n",
      "5996      General Audiences  perfect word tended apply liberally one often ...\n",
      "5997                 Mature  heaven fact unlike earth pro con pro include t...\n",
      "\n",
      "[5998 rows x 2 columns]\n"
     ]
    }
   ],
   "source": [
    "import pandas as pd\n",
    "from nltk.tokenize import word_tokenize\n",
    "from nltk.corpus import stopwords\n",
    "from nltk.stem import WordNetLemmatizer\n",
    "import re\n",
    "\n",
    "lemmatizer = WordNetLemmatizer()\n",
    "\n",
    "def clean_data(df):\n",
    "\n",
    "    df = df[df['HTML_Content'].isin(['Explicit', 'General Audiences', 'Mature', 'Not Rated', 'Teen And Up Audiences'])]\n",
    "\n",
    "    df = df.dropna(subset=['TXT_Content'])\n",
    "\n",
    "    def clean_text(text):\n",
    "        \n",
    "        if not isinstance(text, str):\n",
    "            text = str(text)\n",
    "        text = re.sub('[^a-zA-Z]', ' ', text)\n",
    "        text = text.lower()\n",
    "        tokenized_text = word_tokenize(text)\n",
    "        cleaned_text = [lemmatizer.lemmatize(word) for word in tokenized_text if word not in set(stopwords.words('english'))]\n",
    "\n",
    "        return ' '.join(cleaned_text)\n",
    "\n",
    "    df['TXT_Content'] = df['TXT_Content'].apply(clean_text)\n",
    "\n",
    "    return df\n",
    "\n",
    "data_30_sentences = clean_data(data_30_sentences)\n",
    "\n",
    "print(data_30_sentences)\n"
   ]
  },
  {
   "cell_type": "code",
   "execution_count": 4,
   "id": "74b45d97",
   "metadata": {},
   "outputs": [
    {
     "name": "stdout",
     "output_type": "stream",
     "text": [
      "Fitting 5 folds for each of 12 candidates, totalling 60 fits\n",
      "[CV] END .........................C=0.1, gamma=1, kernel=rbf; total time=   3.6s\n",
      "[CV] END .........................C=0.1, gamma=1, kernel=rbf; total time=   3.8s\n",
      "[CV] END .........................C=0.1, gamma=1, kernel=rbf; total time=   3.6s\n",
      "[CV] END .........................C=0.1, gamma=1, kernel=rbf; total time=   3.8s\n",
      "[CV] END .........................C=0.1, gamma=1, kernel=rbf; total time=   3.6s\n",
      "[CV] END .......................C=0.1, gamma=0.1, kernel=rbf; total time=   3.5s\n",
      "[CV] END .......................C=0.1, gamma=0.1, kernel=rbf; total time=   3.6s\n",
      "[CV] END .......................C=0.1, gamma=0.1, kernel=rbf; total time=   3.6s\n",
      "[CV] END .......................C=0.1, gamma=0.1, kernel=rbf; total time=   3.3s\n",
      "[CV] END .......................C=0.1, gamma=0.1, kernel=rbf; total time=   3.7s\n",
      "[CV] END ......................C=0.1, gamma=0.01, kernel=rbf; total time=   2.9s\n",
      "[CV] END ......................C=0.1, gamma=0.01, kernel=rbf; total time=   2.8s\n",
      "[CV] END ......................C=0.1, gamma=0.01, kernel=rbf; total time=   2.8s\n",
      "[CV] END ......................C=0.1, gamma=0.01, kernel=rbf; total time=   2.7s\n",
      "[CV] END ......................C=0.1, gamma=0.01, kernel=rbf; total time=   2.7s\n",
      "[CV] END ...........................C=1, gamma=1, kernel=rbf; total time=   3.1s\n",
      "[CV] END ...........................C=1, gamma=1, kernel=rbf; total time=   3.2s\n",
      "[CV] END ...........................C=1, gamma=1, kernel=rbf; total time=   3.2s\n",
      "[CV] END ...........................C=1, gamma=1, kernel=rbf; total time=   3.2s\n",
      "[CV] END ...........................C=1, gamma=1, kernel=rbf; total time=   3.3s\n",
      "[CV] END .........................C=1, gamma=0.1, kernel=rbf; total time=   3.2s\n",
      "[CV] END .........................C=1, gamma=0.1, kernel=rbf; total time=   3.2s\n",
      "[CV] END .........................C=1, gamma=0.1, kernel=rbf; total time=   3.1s\n",
      "[CV] END .........................C=1, gamma=0.1, kernel=rbf; total time=   3.2s\n",
      "[CV] END .........................C=1, gamma=0.1, kernel=rbf; total time=   3.1s\n",
      "[CV] END ........................C=1, gamma=0.01, kernel=rbf; total time=   3.0s\n",
      "[CV] END ........................C=1, gamma=0.01, kernel=rbf; total time=   3.2s\n",
      "[CV] END ........................C=1, gamma=0.01, kernel=rbf; total time=   3.0s\n",
      "[CV] END ........................C=1, gamma=0.01, kernel=rbf; total time=   3.1s\n",
      "[CV] END ........................C=1, gamma=0.01, kernel=rbf; total time=   3.1s\n",
      "[CV] END ..........................C=10, gamma=1, kernel=rbf; total time=   3.2s\n",
      "[CV] END ..........................C=10, gamma=1, kernel=rbf; total time=   3.3s\n",
      "[CV] END ..........................C=10, gamma=1, kernel=rbf; total time=   3.2s\n",
      "[CV] END ..........................C=10, gamma=1, kernel=rbf; total time=   3.1s\n",
      "[CV] END ..........................C=10, gamma=1, kernel=rbf; total time=   3.2s\n",
      "[CV] END ........................C=10, gamma=0.1, kernel=rbf; total time=   3.2s\n",
      "[CV] END ........................C=10, gamma=0.1, kernel=rbf; total time=   3.2s\n",
      "[CV] END ........................C=10, gamma=0.1, kernel=rbf; total time=   3.2s\n",
      "[CV] END ........................C=10, gamma=0.1, kernel=rbf; total time=   3.2s\n",
      "[CV] END ........................C=10, gamma=0.1, kernel=rbf; total time=   3.3s\n",
      "[CV] END .......................C=10, gamma=0.01, kernel=rbf; total time=   3.1s\n",
      "[CV] END .......................C=10, gamma=0.01, kernel=rbf; total time=   3.2s\n",
      "[CV] END .......................C=10, gamma=0.01, kernel=rbf; total time=   3.3s\n",
      "[CV] END .......................C=10, gamma=0.01, kernel=rbf; total time=   3.1s\n",
      "[CV] END .......................C=10, gamma=0.01, kernel=rbf; total time=   3.2s\n",
      "[CV] END ..........................C=50, gamma=1, kernel=rbf; total time=   3.2s\n",
      "[CV] END ..........................C=50, gamma=1, kernel=rbf; total time=   3.1s\n",
      "[CV] END ..........................C=50, gamma=1, kernel=rbf; total time=   3.1s\n",
      "[CV] END ..........................C=50, gamma=1, kernel=rbf; total time=   3.2s\n",
      "[CV] END ..........................C=50, gamma=1, kernel=rbf; total time=   3.3s\n",
      "[CV] END ........................C=50, gamma=0.1, kernel=rbf; total time=   3.3s\n",
      "[CV] END ........................C=50, gamma=0.1, kernel=rbf; total time=   3.2s\n",
      "[CV] END ........................C=50, gamma=0.1, kernel=rbf; total time=   3.2s\n",
      "[CV] END ........................C=50, gamma=0.1, kernel=rbf; total time=   3.2s\n",
      "[CV] END ........................C=50, gamma=0.1, kernel=rbf; total time=   3.2s\n",
      "[CV] END .......................C=50, gamma=0.01, kernel=rbf; total time=   3.2s\n",
      "[CV] END .......................C=50, gamma=0.01, kernel=rbf; total time=   3.1s\n",
      "[CV] END .......................C=50, gamma=0.01, kernel=rbf; total time=   3.2s\n",
      "[CV] END .......................C=50, gamma=0.01, kernel=rbf; total time=   3.2s\n",
      "[CV] END .......................C=50, gamma=0.01, kernel=rbf; total time=   3.1s\n",
      "{'C': 1, 'gamma': 1, 'kernel': 'rbf'}\n"
     ]
    },
    {
     "data": {
      "image/png": "[encoded data removed]",
      "text/plain": [
       "<Figure size 576x432 with 2 Axes>"
      ]
     },
     "metadata": {
      "needs_background": "light"
     },
     "output_type": "display_data"
    }
   ],
   "source": [
    "from sklearn.feature_extraction.text import TfidfVectorizer\n",
    "from sklearn.model_selection import train_test_split, GridSearchCV\n",
    "from sklearn import svm\n",
    "import matplotlib.pyplot as plt\n",
    "import seaborn as sns\n",
    "\n",
    "vectorizer = TfidfVectorizer()\n",
    "X = vectorizer.fit_transform(data_30_sentences['TXT_Content'])\n",
    "y = data_30_sentences['HTML_Content']\n",
    "\n",
    "X_train, X_test, y_train, y_test = train_test_split(X, y, test_size=0.2, random_state=42)\n",
    "X_train, X_val, y_train, y_val = train_test_split(X_train, y_train, test_size=0.25, random_state=42) # 0.25 x 0.8 = 0.2\n",
    "\n",
    "svc = svm.SVC()\n",
    "\n",
    "param_grid = {'C': [0.1, 1, 10, 50], 'gamma': [1, 0.1, 0.01], 'kernel': ['rbf']}\n",
    "\n",
    "grid = GridSearchCV(svc, param_grid, refit=True, verbose=2, scoring='accuracy')\n",
    "grid.fit(X_val, y_val)\n",
    "\n",
    "print(grid.best_params_)\n",
    "\n",
    "scores = grid.cv_results_['mean_test_score'].reshape(len(param_grid['C']), len(param_grid['gamma']))\n",
    "\n",
    "plt.figure(figsize=(8, 6))\n",
    "sns.heatmap(scores, annot=True, fmt=\".3f\", xticklabels=param_grid['gamma'], yticklabels=param_grid['C'])\n",
    "plt.xlabel('gamma')\n",
    "plt.ylabel('C')\n",
    "plt.show()"
   ]
  },
  {
   "cell_type": "code",
   "execution_count": 5,
   "id": "b8815110",
   "metadata": {},
   "outputs": [
    {
     "data": {
      "image/png": "[encoded data removed]",
      "text/plain": [
       "<Figure size 576x432 with 2 Axes>"
      ]
     },
     "metadata": {
      "needs_background": "light"
     },
     "output_type": "display_data"
    }
   ],
   "source": [
    "import seaborn as sns\n",
    "\n",
    "plt.figure(figsize=(8, 6))\n",
    "sns.heatmap(scores, annot=True, fmt=\".3f\", xticklabels=param_grid['gamma'], yticklabels=param_grid['C'])\n",
    "plt.xlabel('gamma')\n",
    "plt.ylabel('C')\n",
    "plt.savefig('C:/Users/erich/Desktop/DS_project/data/pic/heatmap_SVM.png')\n",
    "plt.show()"
   ]
  },
  {
   "cell_type": "code",
   "execution_count": null,
   "id": "ae86429a",
   "metadata": {},
   "outputs": [],
   "source": []
  }
 ],
 "metadata": {
  "kernelspec": {
   "display_name": "Python 3 (ipykernel)",
   "language": "python",
   "name": "python3"
  },
  "language_info": {
   "codemirror_mode": {
    "name": "ipython",
    "version": 3
   },
   "file_extension": ".py",
   "mimetype": "text/x-python",
   "name": "python",
   "nbconvert_exporter": "python",
   "pygments_lexer": "ipython3",
   "version": "3.9.12"
  }
 },
 "nbformat": 4,
 "nbformat_minor": 5
}
